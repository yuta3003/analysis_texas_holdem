{
 "cells": [
  {
   "cell_type": "code",
   "execution_count": 1,
   "id": "167d6997",
   "metadata": {},
   "outputs": [],
   "source": [
    "from texas_holdem import games"
   ]
  },
  {
   "cell_type": "code",
   "execution_count": 3,
   "id": "391f0fb3",
   "metadata": {},
   "outputs": [
    {
     "name": "stdout",
     "output_type": "stream",
     "text": [
      "D9\n",
      "H10\n",
      "H4\n",
      "C13\n",
      "C7\n",
      "None\n",
      "Player Name: player1\n",
      "S11\n",
      "H1\n",
      "None\n",
      "Player Name: player2\n",
      "C1\n",
      "H13\n",
      "None\n",
      "player2\n"
     ]
    }
   ],
   "source": [
    "game = games.Game()\n",
    "game.progress()"
   ]
  },
  {
   "cell_type": "code",
   "execution_count": null,
   "id": "0fbe473b",
   "metadata": {},
   "outputs": [],
   "source": []
  }
 ],
 "metadata": {
  "kernelspec": {
   "display_name": "Python 3 (ipykernel)",
   "language": "python",
   "name": "python3"
  },
  "language_info": {
   "codemirror_mode": {
    "name": "ipython",
    "version": 3
   },
   "file_extension": ".py",
   "mimetype": "text/x-python",
   "name": "python",
   "nbconvert_exporter": "python",
   "pygments_lexer": "ipython3",
   "version": "3.9.5"
  }
 },
 "nbformat": 4,
 "nbformat_minor": 5
}
