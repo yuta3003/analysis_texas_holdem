{
 "cells": [
  {
   "cell_type": "code",
   "execution_count": null,
   "id": "11a01836",
   "metadata": {},
   "outputs": [],
   "source": []
  },
  {
   "cell_type": "code",
   "execution_count": 1,
   "id": "167d6997",
   "metadata": {},
   "outputs": [],
   "source": [
    "from texas_holdem import games"
   ]
  },
  {
   "cell_type": "code",
   "execution_count": 6,
   "id": "391f0fb3",
   "metadata": {},
   "outputs": [
    {
     "name": "stdout",
     "output_type": "stream",
     "text": [
      "S5\n",
      "S7\n",
      "C6\n",
      "D11\n",
      "S11\n",
      "None\n",
      "Player Name: player1\n",
      "H3\n",
      "C5\n",
      "None\n",
      "Player Name: player2\n",
      "H7\n",
      "C11\n",
      "None\n",
      "player2\n"
     ]
    }
   ],
   "source": [
    "game = games.Game()\n",
    "game.progress()"
   ]
  },
  {
   "cell_type": "code",
   "execution_count": 4,
   "id": "bfafadbd",
   "metadata": {},
   "outputs": [
    {
     "name": "stdout",
     "output_type": "stream",
     "text": [
      "C5\n",
      "C11\n",
      "S13\n",
      "S9\n",
      "H11\n",
      "None\n",
      "Player Name: player1\n",
      "S2\n",
      "D5\n",
      "None\n",
      "Player Name: player2\n",
      "S12\n",
      "D10\n",
      "None\n",
      "player2\n"
     ]
    }
   ],
   "source": []
  },
  {
   "cell_type": "code",
   "execution_count": null,
   "id": "4e6c0ace",
   "metadata": {},
   "outputs": [],
   "source": []
  }
 ],
 "metadata": {
  "kernelspec": {
   "display_name": "Python 3 (ipykernel)",
   "language": "python",
   "name": "python3"
  },
  "language_info": {
   "codemirror_mode": {
    "name": "ipython",
    "version": 3
   },
   "file_extension": ".py",
   "mimetype": "text/x-python",
   "name": "python",
   "nbconvert_exporter": "python",
   "pygments_lexer": "ipython3",
   "version": "3.9.5"
  }
 },
 "nbformat": 4,
 "nbformat_minor": 5
}
